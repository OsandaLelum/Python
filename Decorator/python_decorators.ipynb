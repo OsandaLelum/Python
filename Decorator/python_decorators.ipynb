{
  "nbformat": 4,
  "nbformat_minor": 0,
  "metadata": {
    "colab": {
      "provenance": []
    },
    "kernelspec": {
      "name": "python3",
      "display_name": "Python 3"
    },
    "language_info": {
      "name": "python"
    }
  },
  "cells": [
    {
      "cell_type": "markdown",
      "source": [
        "**decorator** is a design pattern that allows you to modify the functionality of a function by wrapping it in another function"
      ],
      "metadata": {
        "id": "gEnm_IdRD_Vk"
      }
    },
    {
      "cell_type": "code",
      "execution_count": 1,
      "metadata": {
        "colab": {
          "base_uri": "https://localhost:8080/"
        },
        "id": "NPU3IoVzD8fE",
        "outputId": "4032368f-b638-4130-fc0b-6c73eb7a75a0"
      },
      "outputs": [
        {
          "output_type": "stream",
          "name": "stdout",
          "text": [
            "Before function execution\n",
            "Hello, world!\n",
            "After function execution\n"
          ]
        }
      ],
      "source": [
        "def decorator_function(func):\n",
        "    def wrapper():\n",
        "        print(\"Before function execution\")\n",
        "        func()\n",
        "        print(\"After function execution\")\n",
        "    return wrapper\n",
        "\n",
        "@decorator_function\n",
        "def hello():\n",
        "    print(\"Hello, world!\")\n",
        "\n",
        "hello()\n"
      ]
    },
    {
      "cell_type": "code",
      "source": [
        "def decorator_function_with_args(arg1, arg2):\n",
        "    def decorator_inner_function(func):\n",
        "        def wrapper(*args, **kwargs):\n",
        "            print(f\"Decorator arguments: {arg1}, {arg2}\")\n",
        "            func(*args, **kwargs)\n",
        "        return wrapper\n",
        "    return decorator_inner_function\n",
        "\n",
        "@decorator_function_with_args(\"arg1\", \"arg2\")\n",
        "def hello(name):\n",
        "    print(f\"Hello, {name}!\")\n",
        "\n",
        "hello(\"Osanda\")\n"
      ],
      "metadata": {
        "colab": {
          "base_uri": "https://localhost:8080/"
        },
        "id": "boc5e0wWE9Co",
        "outputId": "fceac473-2793-4457-893c-f91231258b42"
      },
      "execution_count": 3,
      "outputs": [
        {
          "output_type": "stream",
          "name": "stdout",
          "text": [
            "Decorator arguments: arg1, arg2\n",
            "Hello, Osanda!\n"
          ]
        }
      ]
    }
  ]
}
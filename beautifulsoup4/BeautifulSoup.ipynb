{
  "nbformat": 4,
  "nbformat_minor": 0,
  "metadata": {
    "colab": {
      "provenance": []
    },
    "kernelspec": {
      "name": "python3",
      "display_name": "Python 3"
    },
    "language_info": {
      "name": "python"
    }
  },
  "cells": [
    {
      "cell_type": "markdown",
      "source": [
        "Beautiful Soup is a Python library that is commonly used for web scraping purposes. It allows you to extract data from HTML and XML documents by providing convenient methods and tools for parsing and navigating through the document's structure."
      ],
      "metadata": {
        "id": "wf67j0CCq6TN"
      }
    },
    {
      "cell_type": "code",
      "execution_count": 1,
      "metadata": {
        "colab": {
          "base_uri": "https://localhost:8080/"
        },
        "id": "B2xGXYIzq26T",
        "outputId": "10a7ea79-bd54-4d09-a9d6-5fa6c5794a10"
      },
      "outputs": [
        {
          "output_type": "stream",
          "name": "stdout",
          "text": [
            "Requirement already satisfied: beautifulsoup4 in /usr/local/lib/python3.10/dist-packages (4.11.2)\n",
            "Requirement already satisfied: soupsieve>1.2 in /usr/local/lib/python3.10/dist-packages (from beautifulsoup4) (2.4.1)\n"
          ]
        }
      ],
      "source": [
        "!pip install beautifulsoup4"
      ]
    },
    {
      "cell_type": "code",
      "source": [
        "from bs4 import BeautifulSoup\n",
        "\n",
        "# Assuming you have an HTML document stored in the 'html_doc' variable\n",
        "html_doc = \"\"\"\n",
        "<html>\n",
        "<head>\n",
        "    <title>osAndroid</title>\n",
        "</head>\n",
        "<body>\n",
        "    <div id=\"content\">\n",
        "        <h1>Heading</h1>\n",
        "        <p>Hello I am Osanda.</p>\n",
        "        <ul>\n",
        "            <li>Item 1</li>\n",
        "            <li>Item 2</li>\n",
        "            <li>Item 3</li>\n",
        "        </ul>\n",
        "\n",
        "        <ol>\n",
        "            <li>Item 1</li>\n",
        "            <li>Item 2</li>\n",
        "            <li>Item 3</li>\n",
        "\n",
        "        </ol>\n",
        "    </div>\n",
        "</body>\n",
        "</html>\n",
        "\"\"\"\n",
        "\n",
        "# Create a BeautifulSoup object\n",
        "soup = BeautifulSoup(html_doc, 'html.parser')\n",
        "\n",
        "# Extract the title of the document\n",
        "title = soup.title.string\n",
        "print(\"Title:\", title)\n",
        "\n",
        "# Extract the text of the first paragraph\n",
        "paragraph = soup.p.string\n",
        "print(\"Paragraph:\", paragraph)\n",
        "\n",
        "# Extract the text of each list item\n",
        "list_items = soup.find_all('li')\n",
        "print(\"List Items:\")\n",
        "for item in list_items:\n",
        "    print(item.string)\n"
      ],
      "metadata": {
        "colab": {
          "base_uri": "https://localhost:8080/"
        },
        "id": "Bxb4R3uPrSyx",
        "outputId": "0ef5af7c-0e00-47a3-8e5a-ffa8e93f0d6d"
      },
      "execution_count": 5,
      "outputs": [
        {
          "output_type": "stream",
          "name": "stdout",
          "text": [
            "Title: osAndroid\n",
            "Paragraph: Hello I am Osanda.\n",
            "List Items:\n",
            "Item 1\n",
            "Item 2\n",
            "Item 3\n",
            "Item 1\n",
            "Item 2\n",
            "Item 3\n"
          ]
        }
      ]
    },
    {
      "cell_type": "code",
      "source": [
        "html_doc_001 = \"\"\"\n",
        "<html><head><title>The Dormouse's story</title></head>\n",
        "<body>\n",
        "<p class=\"title\"><b>The Dormouse's story</b></p>\n",
        "\n",
        "<p class=\"story\">Once upon a time there were three little sisters; and their names were\n",
        "<a href=\"http://example.com/elsie\" class=\"sister\" id=\"link1\">Elsie</a>,\n",
        "<a href=\"http://example.com/lacie\" class=\"sister\" id=\"link2\">Lacie</a> and\n",
        "<a href=\"http://example.com/tillie\" class=\"sister\" id=\"link3\">Tillie</a>;\n",
        "and they lived at the bottom of a well.</p>\n",
        "\n",
        "<p class=\"story\">...</p>\n",
        "</body>\n",
        "</html>\n",
        "\"\"\"\n",
        "# Create a BeautifulSoup object\n",
        "soup = BeautifulSoup(html_doc_001, 'html.parser')\n",
        "\n",
        "# Extract the title of the document\n",
        "title = soup.title.string\n",
        "print(\"Title:\", title)\n",
        "\n",
        "# Extract the text of the first paragraph\n",
        "paragraph = soup.p.string\n",
        "print(\"Paragraph:\", paragraph)\n",
        "\n",
        "# Extract the text of each list item\n",
        "list_items = soup.find_all('li')\n",
        "print(\"List Items:\")\n",
        "for item in list_items:\n",
        "    print(item.string)\n",
        "\n",
        "links = soup.find_all('a href')\n",
        "print(\"Links:\")\n",
        "for item in links:\n",
        "    print(item.string)\n"
      ],
      "metadata": {
        "colab": {
          "base_uri": "https://localhost:8080/"
        },
        "id": "x5dJjOKpr6vP",
        "outputId": "fa68ed25-98b0-43a6-a55c-a3927eb2383a"
      },
      "execution_count": 10,
      "outputs": [
        {
          "output_type": "stream",
          "name": "stdout",
          "text": [
            "Title: The Dormouse's story\n",
            "Paragraph: The Dormouse's story\n",
            "List Items:\n",
            "Links:\n"
          ]
        }
      ]
    },
    {
      "cell_type": "code",
      "source": [
        "\n",
        "print(soup.prettify())\n"
      ],
      "metadata": {
        "colab": {
          "base_uri": "https://localhost:8080/"
        },
        "id": "v0Bq54Z6tdsG",
        "outputId": "9f3c29f1-a644-44b5-c69d-ef7831d7ef92"
      },
      "execution_count": 11,
      "outputs": [
        {
          "output_type": "stream",
          "name": "stdout",
          "text": [
            "<html>\n",
            " <head>\n",
            "  <title>\n",
            "   The Dormouse's story\n",
            "  </title>\n",
            " </head>\n",
            " <body>\n",
            "  <p class=\"title\">\n",
            "   <b>\n",
            "    The Dormouse's story\n",
            "   </b>\n",
            "  </p>\n",
            "  <p class=\"story\">\n",
            "   Once upon a time there were three little sisters; and their names were\n",
            "   <a class=\"sister\" href=\"http://example.com/elsie\" id=\"link1\">\n",
            "    Elsie\n",
            "   </a>\n",
            "   ,\n",
            "   <a class=\"sister\" href=\"http://example.com/lacie\" id=\"link2\">\n",
            "    Lacie\n",
            "   </a>\n",
            "   and\n",
            "   <a class=\"sister\" href=\"http://example.com/tillie\" id=\"link3\">\n",
            "    Tillie\n",
            "   </a>\n",
            "   ;\n",
            "and they lived at the bottom of a well.\n",
            "  </p>\n",
            "  <p class=\"story\">\n",
            "   ...\n",
            "  </p>\n",
            " </body>\n",
            "</html>\n",
            "\n"
          ]
        }
      ]
    }
  ]
}
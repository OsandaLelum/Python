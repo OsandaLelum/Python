{
  "nbformat": 4,
  "nbformat_minor": 0,
  "metadata": {
    "colab": {
      "provenance": [],
      "authorship_tag": "ABX9TyO8g/J4DSlMvmnCIKD/xtRR",
      "include_colab_link": true
    },
    "kernelspec": {
      "name": "python3",
      "display_name": "Python 3"
    },
    "language_info": {
      "name": "python"
    }
  },
  "cells": [
    {
      "cell_type": "markdown",
      "metadata": {
        "id": "view-in-github",
        "colab_type": "text"
      },
      "source": [
        "<a href=\"https://colab.research.google.com/github/OsandaLelum/MachineLearning/blob/main/Python001.ipynb\" target=\"_parent\"><img src=\"https://colab.research.google.com/assets/colab-badge.svg\" alt=\"Open In Colab\"/></a>"
      ]
    },
    {
      "cell_type": "code",
      "source": [
        "!pip install handcalcs"
      ],
      "metadata": {
        "colab": {
          "base_uri": "https://localhost:8080/"
        },
        "id": "xx9GPegQFP-P",
        "outputId": "323e06ca-ac50-4eb7-91f2-cc1c1b318959"
      },
      "execution_count": 2,
      "outputs": [
        {
          "output_type": "stream",
          "name": "stdout",
          "text": [
            "Looking in indexes: https://pypi.org/simple, https://us-python.pkg.dev/colab-wheels/public/simple/\n",
            "Collecting handcalcs\n",
            "  Downloading handcalcs-1.6.5-py2.py3-none-any.whl (89 kB)\n",
            "\u001b[2K     \u001b[90m━━━━━━━━━━━━━━━━━━━━━━━━━━━━━━━━━━━━━━━━\u001b[0m \u001b[32m89.2/89.2 kB\u001b[0m \u001b[31m7.0 MB/s\u001b[0m eta \u001b[36m0:00:00\u001b[0m\n",
            "\u001b[?25hCollecting innerscope\n",
            "  Downloading innerscope-0.5.1-py3-none-any.whl (18 kB)\n",
            "Requirement already satisfied: nbconvert>=6.0 in /usr/local/lib/python3.9/dist-packages (from handcalcs) (6.5.4)\n",
            "Requirement already satisfied: more_itertools in /usr/local/lib/python3.9/dist-packages (from handcalcs) (9.1.0)\n",
            "Requirement already satisfied: pyparsing in /usr/local/lib/python3.9/dist-packages (from handcalcs) (3.0.9)\n",
            "Requirement already satisfied: jinja2>=3.0 in /usr/local/lib/python3.9/dist-packages (from nbconvert>=6.0->handcalcs) (3.1.2)\n",
            "Requirement already satisfied: pandocfilters>=1.4.1 in /usr/local/lib/python3.9/dist-packages (from nbconvert>=6.0->handcalcs) (1.5.0)\n",
            "Requirement already satisfied: bleach in /usr/local/lib/python3.9/dist-packages (from nbconvert>=6.0->handcalcs) (6.0.0)\n",
            "Requirement already satisfied: MarkupSafe>=2.0 in /usr/local/lib/python3.9/dist-packages (from nbconvert>=6.0->handcalcs) (2.1.2)\n",
            "Requirement already satisfied: entrypoints>=0.2.2 in /usr/local/lib/python3.9/dist-packages (from nbconvert>=6.0->handcalcs) (0.4)\n",
            "Requirement already satisfied: defusedxml in /usr/local/lib/python3.9/dist-packages (from nbconvert>=6.0->handcalcs) (0.7.1)\n",
            "Requirement already satisfied: pygments>=2.4.1 in /usr/local/lib/python3.9/dist-packages (from nbconvert>=6.0->handcalcs) (2.14.0)\n",
            "Requirement already satisfied: traitlets>=5.0 in /usr/local/lib/python3.9/dist-packages (from nbconvert>=6.0->handcalcs) (5.7.1)\n",
            "Requirement already satisfied: lxml in /usr/local/lib/python3.9/dist-packages (from nbconvert>=6.0->handcalcs) (4.9.2)\n",
            "Requirement already satisfied: jupyterlab-pygments in /usr/local/lib/python3.9/dist-packages (from nbconvert>=6.0->handcalcs) (0.2.2)\n",
            "Requirement already satisfied: nbclient>=0.5.0 in /usr/local/lib/python3.9/dist-packages (from nbconvert>=6.0->handcalcs) (0.7.3)\n",
            "Requirement already satisfied: packaging in /usr/local/lib/python3.9/dist-packages (from nbconvert>=6.0->handcalcs) (23.1)\n",
            "Requirement already satisfied: nbformat>=5.1 in /usr/local/lib/python3.9/dist-packages (from nbconvert>=6.0->handcalcs) (5.8.0)\n",
            "Requirement already satisfied: tinycss2 in /usr/local/lib/python3.9/dist-packages (from nbconvert>=6.0->handcalcs) (1.2.1)\n",
            "Requirement already satisfied: beautifulsoup4 in /usr/local/lib/python3.9/dist-packages (from nbconvert>=6.0->handcalcs) (4.11.2)\n",
            "Requirement already satisfied: jupyter-core>=4.7 in /usr/local/lib/python3.9/dist-packages (from nbconvert>=6.0->handcalcs) (5.3.0)\n",
            "Requirement already satisfied: mistune<2,>=0.8.1 in /usr/local/lib/python3.9/dist-packages (from nbconvert>=6.0->handcalcs) (0.8.4)\n",
            "Requirement already satisfied: toolz in /usr/local/lib/python3.9/dist-packages (from innerscope->handcalcs) (0.12.0)\n",
            "Requirement already satisfied: platformdirs>=2.5 in /usr/local/lib/python3.9/dist-packages (from jupyter-core>=4.7->nbconvert>=6.0->handcalcs) (3.2.0)\n",
            "Requirement already satisfied: jupyter-client>=6.1.12 in /usr/local/lib/python3.9/dist-packages (from nbclient>=0.5.0->nbconvert>=6.0->handcalcs) (6.1.12)\n",
            "Requirement already satisfied: fastjsonschema in /usr/local/lib/python3.9/dist-packages (from nbformat>=5.1->nbconvert>=6.0->handcalcs) (2.16.3)\n",
            "Requirement already satisfied: jsonschema>=2.6 in /usr/local/lib/python3.9/dist-packages (from nbformat>=5.1->nbconvert>=6.0->handcalcs) (4.3.3)\n",
            "Requirement already satisfied: soupsieve>1.2 in /usr/local/lib/python3.9/dist-packages (from beautifulsoup4->nbconvert>=6.0->handcalcs) (2.4.1)\n",
            "Requirement already satisfied: six>=1.9.0 in /usr/local/lib/python3.9/dist-packages (from bleach->nbconvert>=6.0->handcalcs) (1.16.0)\n",
            "Requirement already satisfied: webencodings in /usr/local/lib/python3.9/dist-packages (from bleach->nbconvert>=6.0->handcalcs) (0.5.1)\n",
            "Requirement already satisfied: attrs>=17.4.0 in /usr/local/lib/python3.9/dist-packages (from jsonschema>=2.6->nbformat>=5.1->nbconvert>=6.0->handcalcs) (23.1.0)\n",
            "Requirement already satisfied: pyrsistent!=0.17.0,!=0.17.1,!=0.17.2,>=0.14.0 in /usr/local/lib/python3.9/dist-packages (from jsonschema>=2.6->nbformat>=5.1->nbconvert>=6.0->handcalcs) (0.19.3)\n",
            "Requirement already satisfied: tornado>=4.1 in /usr/local/lib/python3.9/dist-packages (from jupyter-client>=6.1.12->nbclient>=0.5.0->nbconvert>=6.0->handcalcs) (6.2)\n",
            "Requirement already satisfied: pyzmq>=13 in /usr/local/lib/python3.9/dist-packages (from jupyter-client>=6.1.12->nbclient>=0.5.0->nbconvert>=6.0->handcalcs) (23.2.1)\n",
            "Requirement already satisfied: python-dateutil>=2.1 in /usr/local/lib/python3.9/dist-packages (from jupyter-client>=6.1.12->nbclient>=0.5.0->nbconvert>=6.0->handcalcs) (2.8.2)\n",
            "Installing collected packages: innerscope, handcalcs\n",
            "Successfully installed handcalcs-1.6.5 innerscope-0.5.1\n"
          ]
        }
      ]
    },
    {
      "cell_type": "code",
      "execution_count": 3,
      "metadata": {
        "id": "uisGTMsUE3TV"
      },
      "outputs": [],
      "source": [
        "import handcalcs.render"
      ]
    },
    {
      "cell_type": "code",
      "source": [
        "print('Hello World!')\n",
        "print('Hi, Python!')\n"
      ],
      "metadata": {
        "colab": {
          "base_uri": "https://localhost:8080/"
        },
        "id": "DKUO35LIFcmd",
        "outputId": "ec39b4bc-5e54-4cee-e87d-d62308ef69d8"
      },
      "execution_count": 4,
      "outputs": [
        {
          "output_type": "stream",
          "name": "stdout",
          "text": [
            "Hello World!\n",
            "Hi, Python!\n"
          ]
        }
      ]
    },
    {
      "cell_type": "code",
      "source": [
        "import sys\n",
        "print(sys.version) # version control\n",
        "#print(sys.winver) # [Windows only] version number of the Python DLL\n",
        "print(sys.gettrace) # get the global debug tracing function\n",
        "print(sys.argv) # keeps the parameters used while running the program we wrote in a list."
      ],
      "metadata": {
        "colab": {
          "base_uri": "https://localhost:8080/"
        },
        "id": "jn5QhusrE5lq",
        "outputId": "1a7388bf-11a5-4b85-a8de-0c0564334244"
      },
      "execution_count": 10,
      "outputs": [
        {
          "output_type": "stream",
          "name": "stdout",
          "text": [
            "3.9.16 (main, Dec  7 2022, 01:11:51) \n",
            "[GCC 9.4.0]\n",
            "<built-in function gettrace>\n",
            "['/usr/local/lib/python3.9/dist-packages/ipykernel_launcher.py', '-f', '/root/.local/share/jupyter/runtime/kernel-a6605ee6-19cd-46c5-a6f9-b0e29743cc52.json']\n"
          ]
        }
      ]
    },
    {
      "cell_type": "code",
      "source": [
        "import platform\n",
        "\n",
        "print(platform.system())   # print the name of the operating system (e.g. 'Windows', 'Linux', 'Darwin')\n",
        "print(platform.release())  # print the version of the operating system (e.g. '10.0.19042' on Windows 10)\n"
      ],
      "metadata": {
        "colab": {
          "base_uri": "https://localhost:8080/"
        },
        "id": "URTqRW0QGBCO",
        "outputId": "22dc4ca3-6723-4bf1-8a6c-c708defaef18"
      },
      "execution_count": 8,
      "outputs": [
        {
          "output_type": "stream",
          "name": "stdout",
          "text": [
            "Linux\n",
            "5.10.147+\n"
          ]
        }
      ]
    },
    {
      "cell_type": "code",
      "source": [
        "help(sys) "
      ],
      "metadata": {
        "colab": {
          "base_uri": "https://localhost:8080/"
        },
        "id": "-Tx0dN9IGPYJ",
        "outputId": "cc0f82d6-ba6e-4fe5-d850-19df4699aad0"
      },
      "execution_count": 11,
      "outputs": [
        {
          "output_type": "stream",
          "name": "stdout",
          "text": [
            "Help on built-in module sys:\n",
            "\n",
            "NAME\n",
            "    sys\n",
            "\n",
            "MODULE REFERENCE\n",
            "    https://docs.python.org/3.9/library/sys\n",
            "    \n",
            "    The following documentation is automatically generated from the Python\n",
            "    source files.  It may be incomplete, incorrect or include features that\n",
            "    are considered implementation detail and may vary between Python\n",
            "    implementations.  When in doubt, consult the module reference at the\n",
            "    location listed above.\n",
            "\n",
            "DESCRIPTION\n",
            "    This module provides access to some objects used or maintained by the\n",
            "    interpreter and to functions that interact strongly with the interpreter.\n",
            "    \n",
            "    Dynamic objects:\n",
            "    \n",
            "    argv -- command line arguments; argv[0] is the script pathname if known\n",
            "    path -- module search path; path[0] is the script directory, else ''\n",
            "    modules -- dictionary of loaded modules\n",
            "    \n",
            "    displayhook -- called to show results in an interactive session\n",
            "    excepthook -- called to handle any uncaught exception other than SystemExit\n",
            "      To customize printing in an interactive session or to install a custom\n",
            "      top-level exception handler, assign other functions to replace these.\n",
            "    \n",
            "    stdin -- standard input file object; used by input()\n",
            "    stdout -- standard output file object; used by print()\n",
            "    stderr -- standard error object; used for error messages\n",
            "      By assigning other file objects (or objects that behave like files)\n",
            "      to these, it is possible to redirect all of the interpreter's I/O.\n",
            "    \n",
            "    last_type -- type of last uncaught exception\n",
            "    last_value -- value of last uncaught exception\n",
            "    last_traceback -- traceback of last uncaught exception\n",
            "      These three are only available in an interactive session after a\n",
            "      traceback has been printed.\n",
            "    \n",
            "    Static objects:\n",
            "    \n",
            "    builtin_module_names -- tuple of module names built into this interpreter\n",
            "    copyright -- copyright notice pertaining to this interpreter\n",
            "    exec_prefix -- prefix used to find the machine-specific Python library\n",
            "    executable -- absolute path of the executable binary of the Python interpreter\n",
            "    float_info -- a named tuple with information about the float implementation.\n",
            "    float_repr_style -- string indicating the style of repr() output for floats\n",
            "    hash_info -- a named tuple with information about the hash algorithm.\n",
            "    hexversion -- version information encoded as a single integer\n",
            "    implementation -- Python implementation information.\n",
            "    int_info -- a named tuple with information about the int implementation.\n",
            "    maxsize -- the largest supported length of containers.\n",
            "    maxunicode -- the value of the largest Unicode code point\n",
            "    platform -- platform identifier\n",
            "    prefix -- prefix used to find the Python library\n",
            "    thread_info -- a named tuple with information about the thread implementation.\n",
            "    version -- the version of this interpreter as a string\n",
            "    version_info -- version information as a named tuple\n",
            "    __stdin__ -- the original stdin; don't touch!\n",
            "    __stdout__ -- the original stdout; don't touch!\n",
            "    __stderr__ -- the original stderr; don't touch!\n",
            "    __displayhook__ -- the original displayhook; don't touch!\n",
            "    __excepthook__ -- the original excepthook; don't touch!\n",
            "    \n",
            "    Functions:\n",
            "    \n",
            "    displayhook() -- print an object to the screen, and save it in builtins._\n",
            "    excepthook() -- print an exception and its traceback to sys.stderr\n",
            "    exc_info() -- return thread-safe information about the current exception\n",
            "    exit() -- exit the interpreter by raising SystemExit\n",
            "    getdlopenflags() -- returns flags to be used for dlopen() calls\n",
            "    getprofile() -- get the global profiling function\n",
            "    getrefcount() -- return the reference count for an object (plus one :-)\n",
            "    getrecursionlimit() -- return the max recursion depth for the interpreter\n",
            "    getsizeof() -- return the size of an object in bytes\n",
            "    gettrace() -- get the global debug tracing function\n",
            "    setdlopenflags() -- set the flags to be used for dlopen() calls\n",
            "    setprofile() -- set the global profiling function\n",
            "    setrecursionlimit() -- set the max recursion depth for the interpreter\n",
            "    settrace() -- set the global debug tracing function\n",
            "\n",
            "FUNCTIONS\n",
            "    __breakpointhook__ = breakpointhook(...)\n",
            "        breakpointhook(*args, **kws)\n",
            "        \n",
            "        This hook function is called by built-in breakpoint().\n",
            "    \n",
            "    __displayhook__ = displayhook(object, /)\n",
            "        Print an object to sys.stdout and also save it in builtins._\n",
            "    \n",
            "    __excepthook__ = excepthook(exctype, value, traceback, /)\n",
            "        Handle an exception by displaying it with a traceback on sys.stderr.\n",
            "    \n",
            "    __unraisablehook__ = unraisablehook(unraisable, /)\n",
            "        Handle an unraisable exception.\n",
            "        \n",
            "        The unraisable argument has the following attributes:\n",
            "        \n",
            "        * exc_type: Exception type.\n",
            "        * exc_value: Exception value, can be None.\n",
            "        * exc_traceback: Exception traceback, can be None.\n",
            "        * err_msg: Error message, can be None.\n",
            "        * object: Object causing the exception, can be None.\n",
            "    \n",
            "    addaudithook(hook)\n",
            "        Adds a new audit hook callback.\n",
            "    \n",
            "    audit(...)\n",
            "        audit(event, *args)\n",
            "        \n",
            "        Passes the event to any audit hooks that are attached.\n",
            "    \n",
            "    breakpointhook(...)\n",
            "        breakpointhook(*args, **kws)\n",
            "        \n",
            "        This hook function is called by built-in breakpoint().\n",
            "    \n",
            "    call_tracing(func, args, /)\n",
            "        Call func(*args), while tracing is enabled.\n",
            "        \n",
            "        The tracing state is saved, and restored afterwards.  This is intended\n",
            "        to be called from a debugger from a checkpoint, to recursively debug\n",
            "        some other code.\n",
            "    \n",
            "    exc_info()\n",
            "        Return current exception information: (type, value, traceback).\n",
            "        \n",
            "        Return information about the most recent exception caught by an except\n",
            "        clause in the current stack frame or in an older stack frame.\n",
            "    \n",
            "    exit(status=None, /)\n",
            "        Exit the interpreter by raising SystemExit(status).\n",
            "        \n",
            "        If the status is omitted or None, it defaults to zero (i.e., success).\n",
            "        If the status is an integer, it will be used as the system exit status.\n",
            "        If it is another kind of object, it will be printed and the system\n",
            "        exit status will be one (i.e., failure).\n",
            "    \n",
            "    get_asyncgen_hooks()\n",
            "        Return the installed asynchronous generators hooks.\n",
            "        \n",
            "        This returns a namedtuple of the form (firstiter, finalizer).\n",
            "    \n",
            "    get_coroutine_origin_tracking_depth()\n",
            "        Check status of origin tracking for coroutine objects in this thread.\n",
            "    \n",
            "    get_int_max_str_digits()\n",
            "        Set the maximum string digits limit for non-binary int<->str conversions.\n",
            "    \n",
            "    getallocatedblocks()\n",
            "        Return the number of memory blocks currently allocated.\n",
            "    \n",
            "    getdefaultencoding()\n",
            "        Return the current default encoding used by the Unicode implementation.\n",
            "    \n",
            "    getdlopenflags()\n",
            "        Return the current value of the flags that are used for dlopen calls.\n",
            "        \n",
            "        The flag constants are defined in the os module.\n",
            "    \n",
            "    getfilesystemencodeerrors()\n",
            "        Return the error mode used Unicode to OS filename conversion.\n",
            "    \n",
            "    getfilesystemencoding()\n",
            "        Return the encoding used to convert Unicode filenames to OS filenames.\n",
            "    \n",
            "    getprofile()\n",
            "        Return the profiling function set with sys.setprofile.\n",
            "        \n",
            "        See the profiler chapter in the library manual.\n",
            "    \n",
            "    getrecursionlimit()\n",
            "        Return the current value of the recursion limit.\n",
            "        \n",
            "        The recursion limit is the maximum depth of the Python interpreter\n",
            "        stack.  This limit prevents infinite recursion from causing an overflow\n",
            "        of the C stack and crashing Python.\n",
            "    \n",
            "    getrefcount(object, /)\n",
            "        Return the reference count of object.\n",
            "        \n",
            "        The count returned is generally one higher than you might expect,\n",
            "        because it includes the (temporary) reference as an argument to\n",
            "        getrefcount().\n",
            "    \n",
            "    getsizeof(...)\n",
            "        getsizeof(object [, default]) -> int\n",
            "        \n",
            "        Return the size of object in bytes.\n",
            "    \n",
            "    getswitchinterval()\n",
            "        Return the current thread switch interval; see sys.setswitchinterval().\n",
            "    \n",
            "    gettrace()\n",
            "        Return the global debug tracing function set with sys.settrace.\n",
            "        \n",
            "        See the debugger chapter in the library manual.\n",
            "    \n",
            "    intern(string, /)\n",
            "        ``Intern'' the given string.\n",
            "        \n",
            "        This enters the string in the (global) table of interned strings whose\n",
            "        purpose is to speed up dictionary lookups. Return the string itself or\n",
            "        the previously interned string object with the same value.\n",
            "    \n",
            "    is_finalizing()\n",
            "        Return True if Python is exiting.\n",
            "    \n",
            "    set_asyncgen_hooks(...)\n",
            "        set_asyncgen_hooks(* [, firstiter] [, finalizer])\n",
            "        \n",
            "        Set a finalizer for async generators objects.\n",
            "    \n",
            "    set_coroutine_origin_tracking_depth(depth)\n",
            "        Enable or disable origin tracking for coroutine objects in this thread.\n",
            "        \n",
            "        Coroutine objects will track 'depth' frames of traceback information\n",
            "        about where they came from, available in their cr_origin attribute.\n",
            "        \n",
            "        Set a depth of 0 to disable.\n",
            "    \n",
            "    set_int_max_str_digits(maxdigits)\n",
            "        Set the maximum string digits limit for non-binary int<->str conversions.\n",
            "    \n",
            "    setdlopenflags(flags, /)\n",
            "        Set the flags used by the interpreter for dlopen calls.\n",
            "        \n",
            "        This is used, for example, when the interpreter loads extension\n",
            "        modules. Among other things, this will enable a lazy resolving of\n",
            "        symbols when importing a module, if called as sys.setdlopenflags(0).\n",
            "        To share symbols across extension modules, call as\n",
            "        sys.setdlopenflags(os.RTLD_GLOBAL).  Symbolic names for the flag\n",
            "        modules can be found in the os module (RTLD_xxx constants, e.g.\n",
            "        os.RTLD_LAZY).\n",
            "    \n",
            "    setprofile(...)\n",
            "        setprofile(function)\n",
            "        \n",
            "        Set the profiling function.  It will be called on each function call\n",
            "        and return.  See the profiler chapter in the library manual.\n",
            "    \n",
            "    setrecursionlimit(limit, /)\n",
            "        Set the maximum depth of the Python interpreter stack to n.\n",
            "        \n",
            "        This limit prevents infinite recursion from causing an overflow of the C\n",
            "        stack and crashing Python.  The highest possible limit is platform-\n",
            "        dependent.\n",
            "    \n",
            "    setswitchinterval(interval, /)\n",
            "        Set the ideal thread switching delay inside the Python interpreter.\n",
            "        \n",
            "        The actual frequency of switching threads can be lower if the\n",
            "        interpreter executes long sequences of uninterruptible code\n",
            "        (this is implementation-specific and workload-dependent).\n",
            "        \n",
            "        The parameter must represent the desired switching delay in seconds\n",
            "        A typical value is 0.005 (5 milliseconds).\n",
            "    \n",
            "    unraisablehook(unraisable, /)\n",
            "        Handle an unraisable exception.\n",
            "        \n",
            "        The unraisable argument has the following attributes:\n",
            "        \n",
            "        * exc_type: Exception type.\n",
            "        * exc_value: Exception value, can be None.\n",
            "        * exc_traceback: Exception traceback, can be None.\n",
            "        * err_msg: Error message, can be None.\n",
            "        * object: Object causing the exception, can be None.\n",
            "\n",
            "DATA\n",
            "    __stderr__ = <_io.TextIOWrapper name='<stderr>' mode='w' encoding='utf...\n",
            "    __stdin__ = <_io.TextIOWrapper name='<stdin>' mode='r' encoding='utf-8...\n",
            "    __stdout__ = <_io.TextIOWrapper name='<stdout>' mode='w' encoding='utf...\n",
            "    abiflags = ''\n",
            "    api_version = 1013\n",
            "    argv = ['/usr/local/lib/python3.9/dist-packages/ipykernel_launcher.py'...\n",
            "    base_exec_prefix = '/usr'\n",
            "    base_prefix = '/usr'\n",
            "    builtin_module_names = ('_abc', '_ast', '_bisect', '_blake2', '_codecs...\n",
            "    byteorder = 'little'\n",
            "    copyright = 'Copyright (c) 2001-2022 Python Software Foundati...ematis...\n",
            "    displayhook = <ipykernel.displayhook.ZMQShellDisplayHook object>\n",
            "    dont_write_bytecode = False\n",
            "    exec_prefix = '/usr'\n",
            "    executable = '/usr/bin/python3'\n",
            "    flags = sys.flags(debug=0, inspect=0, interactive=0, opt...v_mode=Fals...\n",
            "    float_info = sys.float_info(max=1.7976931348623157e+308, max_...epsilo...\n",
            "    float_repr_style = 'short'\n",
            "    hash_info = sys.hash_info(width=64, modulus=2305843009213693...iphash2...\n",
            "    hexversion = 50925808\n",
            "    implementation = namespace(name='cpython', cache_tag='cpython-39'...xv...\n",
            "    int_info = sys.int_info(bits_per_digit=30, sizeof_digit=4, ..._str_dig...\n",
            "    last_value = AttributeError(\"module 'sys' has no attribute 'winver'\")\n",
            "    maxsize = 9223372036854775807\n",
            "    maxunicode = 1114111\n",
            "    meta_path = [<google.colab._import_hooks._client_info.APICoreClientInf...\n",
            "    modules = {'IPython': <module 'IPython' from '/usr/local/lib/python3.9...\n",
            "    path = ['/content', '/env/python', '/usr/lib/python39.zip', '/usr/lib/...\n",
            "    path_hooks = [<class 'zipimport.zipimporter'>, <function FileFinder.pa...\n",
            "    path_importer_cache = {'': FileFinder('/content/.'), '/content': FileF...\n",
            "    platform = 'linux'\n",
            "    platlibdir = 'lib'\n",
            "    prefix = '/usr'\n",
            "    ps1 = 'In : '\n",
            "    ps2 = '...: '\n",
            "    ps3 = 'Out: '\n",
            "    pycache_prefix = None\n",
            "    stderr = <ipykernel.iostream.OutStream object>\n",
            "    stdin = <_io.TextIOWrapper name='<stdin>' mode='r' encoding='utf-8'>\n",
            "    stdout = <ipykernel.iostream.OutStream object>\n",
            "    thread_info = sys.thread_info(name='pthread', lock='semaphore', versio...\n",
            "    version = '3.9.16 (main, Dec  7 2022, 01:11:51) \\n[GCC 9.4.0]'\n",
            "    version_info = sys.version_info(major=3, minor=9, micro=16, releaselev...\n",
            "    warnoptions = ['ignore:::pip._internal.cli.base_command']\n",
            "\n",
            "FILE\n",
            "    (built-in)\n",
            "\n",
            "\n"
          ]
        }
      ]
    },
    {
      "cell_type": "code",
      "source": [
        "# Print string as error message\n",
        "frint('Hello, World!')"
      ],
      "metadata": {
        "colab": {
          "base_uri": "https://localhost:8080/",
          "height": 182
        },
        "id": "4IFLXtDXGXbm",
        "outputId": "311b0d7e-d414-49fc-eb32-826655f90cc9"
      },
      "execution_count": 12,
      "outputs": [
        {
          "output_type": "error",
          "ename": "NameError",
          "evalue": "ignored",
          "traceback": [
            "\u001b[0;31m---------------------------------------------------------------------------\u001b[0m",
            "\u001b[0;31mNameError\u001b[0m                                 Traceback (most recent call last)",
            "\u001b[0;32m<ipython-input-12-235d81bdea77>\u001b[0m in \u001b[0;36m<cell line: 2>\u001b[0;34m()\u001b[0m\n\u001b[1;32m      1\u001b[0m \u001b[0;31m# Print string as error message\u001b[0m\u001b[0;34m\u001b[0m\u001b[0;34m\u001b[0m\u001b[0m\n\u001b[0;32m----> 2\u001b[0;31m \u001b[0mfrint\u001b[0m\u001b[0;34m(\u001b[0m\u001b[0;34m'Hello, World!'\u001b[0m\u001b[0;34m)\u001b[0m\u001b[0;34m\u001b[0m\u001b[0;34m\u001b[0m\u001b[0m\n\u001b[0m",
            "\u001b[0;31mNameError\u001b[0m: name 'frint' is not defined"
          ]
        }
      ]
    },
    {
      "cell_type": "code",
      "source": [
        "# String\n",
        "print(\"Hello, World!\")\n",
        "# Integer\n",
        "print(12)\n",
        "# Float\n",
        "print(3.14)\n",
        "# Boolean\n",
        "print(True)\n",
        "print(False)\n",
        "print(bool(1)) # Output = True\n",
        "print(bool(0)) # Output = False"
      ],
      "metadata": {
        "colab": {
          "base_uri": "https://localhost:8080/"
        },
        "id": "NRoJob47G3px",
        "outputId": "a2b0f2cd-3d2e-4fb9-faa7-b8f29dbda33b"
      },
      "execution_count": 13,
      "outputs": [
        {
          "output_type": "stream",
          "name": "stdout",
          "text": [
            "Hello, World!\n",
            "12\n",
            "3.14\n",
            "True\n",
            "False\n",
            "True\n",
            "False\n"
          ]
        }
      ]
    },
    {
      "cell_type": "code",
      "source": [
        "print(sys.int_info)\n",
        "print() # to add a space between two outputs, use 'print()' function\n",
        "print(sys.float_info)\n"
      ],
      "metadata": {
        "colab": {
          "base_uri": "https://localhost:8080/"
        },
        "id": "KgWZcCr0HI5C",
        "outputId": "945f6b3a-7033-4766-df07-80cc911c78f0"
      },
      "execution_count": 14,
      "outputs": [
        {
          "output_type": "stream",
          "name": "stdout",
          "text": [
            "sys.int_info(bits_per_digit=30, sizeof_digit=4, default_max_str_digits=4300, str_digits_check_threshold=640)\n",
            "\n",
            "sys.float_info(max=1.7976931348623157e+308, max_exp=1024, max_10_exp=308, min=2.2250738585072014e-308, min_exp=-1021, min_10_exp=-307, dig=15, mant_dig=53, epsilon=2.220446049250313e-16, radix=2, rounds=1)\n"
          ]
        }
      ]
    },
    {
      "cell_type": "code",
      "source": [
        "number = 6\n",
        "print(str(number))\n",
        "print(float(number))\n",
        "print(type(number))\n",
        "print(type(str(number)))\n",
        "print(type(float(number)))\n",
        "str(number)"
      ],
      "metadata": {
        "colab": {
          "base_uri": "https://localhost:8080/",
          "height": 122
        },
        "id": "eubzl3v_HYB4",
        "outputId": "f3cfdb12-0c20-44a3-b7be-7b29c7dc66cc"
      },
      "execution_count": 15,
      "outputs": [
        {
          "output_type": "stream",
          "name": "stdout",
          "text": [
            "6\n",
            "6.0\n",
            "<class 'int'>\n",
            "<class 'str'>\n",
            "<class 'float'>\n"
          ]
        },
        {
          "output_type": "execute_result",
          "data": {
            "text/plain": [
              "'6'"
            ],
            "application/vnd.google.colaboratory.intrinsic+json": {
              "type": "string"
            }
          },
          "metadata": {},
          "execution_count": 15
        }
      ]
    },
    {
      "cell_type": "code",
      "source": [
        "number = 3.14\n",
        "print(str(number))\n",
        "print(int(number))\n",
        "print(type(number))\n",
        "print(type(str(number)))\n",
        "print(type(int(number)))\n",
        "str(number)\n"
      ],
      "metadata": {
        "colab": {
          "base_uri": "https://localhost:8080/",
          "height": 122
        },
        "id": "SZzBS0t7IOty",
        "outputId": "15a02b0e-d728-4296-959f-ef6084eebb66"
      },
      "execution_count": 16,
      "outputs": [
        {
          "output_type": "stream",
          "name": "stdout",
          "text": [
            "3.14\n",
            "3\n",
            "<class 'float'>\n",
            "<class 'str'>\n",
            "<class 'int'>\n"
          ]
        },
        {
          "output_type": "execute_result",
          "data": {
            "text/plain": [
              "'3.14'"
            ],
            "application/vnd.google.colaboratory.intrinsic+json": {
              "type": "string"
            }
          },
          "metadata": {},
          "execution_count": 16
        }
      ]
    },
    {
      "cell_type": "code",
      "source": [
        "bool_1 = True\n",
        "bool_2 = False\n",
        "print(int(bool_1))\n",
        "print(int(bool_2))\n",
        "print(float(bool_1))\n",
        "print(float(bool_2))\n",
        "print(str(bool_1))\n",
        "print(str(bool_2))\n",
        "print(bool(1))\n",
        "print(bool(0))\n"
      ],
      "metadata": {
        "colab": {
          "base_uri": "https://localhost:8080/"
        },
        "id": "qZfFmpUaIy4P",
        "outputId": "ccd075db-cf3c-429a-ca92-0e2597686e3e"
      },
      "execution_count": 17,
      "outputs": [
        {
          "output_type": "stream",
          "name": "stdout",
          "text": [
            "1\n",
            "0\n",
            "1.0\n",
            "0.0\n",
            "True\n",
            "False\n",
            "True\n",
            "False\n"
          ]
        }
      ]
    },
    {
      "cell_type": "code",
      "source": [
        "print(9/3)\n",
        "print(9//4)\n",
        "print(type(9/3))\n",
        "print(type(9//4))"
      ],
      "metadata": {
        "colab": {
          "base_uri": "https://localhost:8080/"
        },
        "id": "7SL49whDI-kr",
        "outputId": "79f356cc-b91a-4d22-93dd-27c046f2cc79"
      },
      "execution_count": 18,
      "outputs": [
        {
          "output_type": "stream",
          "name": "stdout",
          "text": [
            "3.0\n",
            "2\n",
            "<class 'float'>\n",
            "<class 'int'>\n"
          ]
        }
      ]
    },
    {
      "cell_type": "code",
      "source": [
        "#Experesion and variables Addition\n",
        "x = 56+65+89+45+78.5+98.2\n",
        "print(x)\n",
        "print(type(x))\n"
      ],
      "metadata": {
        "colab": {
          "base_uri": "https://localhost:8080/"
        },
        "id": "ynw-5LhAJZ4W",
        "outputId": "7c6ec960-28c7-4904-825b-3a9e1b9d5076"
      },
      "execution_count": 19,
      "outputs": [
        {
          "output_type": "stream",
          "name": "stdout",
          "text": [
            "431.7\n",
            "<class 'float'>\n"
          ]
        }
      ]
    },
    {
      "cell_type": "code",
      "source": [
        "# Substraction\n",
        "x = 85-52-21-8\n",
        "print(x)\n",
        "print(type(x))"
      ],
      "metadata": {
        "colab": {
          "base_uri": "https://localhost:8080/"
        },
        "id": "5GWITyTHJf3-",
        "outputId": "8ffbbc40-0446-4014-b310-087c5d262def"
      },
      "execution_count": 20,
      "outputs": [
        {
          "output_type": "stream",
          "name": "stdout",
          "text": [
            "4\n",
            "<class 'int'>\n"
          ]
        }
      ]
    },
    {
      "cell_type": "code",
      "source": [
        "# Multiplication\n",
        "x = 8*74\n",
        "print(x)\n",
        "print(type(x))\n"
      ],
      "metadata": {
        "colab": {
          "base_uri": "https://localhost:8080/"
        },
        "id": "Q5MF9J6vJiWD",
        "outputId": "454d0cf0-9d7c-45cb-f3c0-7f0ea0b93aac"
      },
      "execution_count": 21,
      "outputs": [
        {
          "output_type": "stream",
          "name": "stdout",
          "text": [
            "592\n",
            "<class 'int'>\n"
          ]
        }
      ]
    },
    {
      "cell_type": "code",
      "source": [
        "# Division\n",
        "x = 125/24\n",
        "print(x)\n",
        "print(type(x))\n"
      ],
      "metadata": {
        "colab": {
          "base_uri": "https://localhost:8080/"
        },
        "id": "hRJlqVVVJtGN",
        "outputId": "4930af24-cce1-4f54-f0cc-ee196a0ce821"
      },
      "execution_count": 22,
      "outputs": [
        {
          "output_type": "stream",
          "name": "stdout",
          "text": [
            "5.208333333333333\n",
            "<class 'float'>\n"
          ]
        }
      ]
    },
    {
      "cell_type": "code",
      "source": [
        "# Floor division\n",
        "x = 125//24\n",
        "print(x)\n",
        "print(type(x))\n"
      ],
      "metadata": {
        "colab": {
          "base_uri": "https://localhost:8080/"
        },
        "id": "cWAdl-UDJ4aq",
        "outputId": "63cadf76-9afe-4d30-86b5-756cb131b7a0"
      },
      "execution_count": 23,
      "outputs": [
        {
          "output_type": "stream",
          "name": "stdout",
          "text": [
            "5\n",
            "<class 'int'>\n"
          ]
        }
      ]
    },
    {
      "cell_type": "code",
      "source": [
        "# Modulus\n",
        "x = 125%24\n",
        "print(x)\n",
        "print(type(x))"
      ],
      "metadata": {
        "colab": {
          "base_uri": "https://localhost:8080/"
        },
        "id": "kE7vGYd2KQiT",
        "outputId": "d7e003eb-4ad4-4b0f-8236-f1f803c31db4"
      },
      "execution_count": 24,
      "outputs": [
        {
          "output_type": "stream",
          "name": "stdout",
          "text": [
            "5\n",
            "<class 'int'>\n"
          ]
        }
      ]
    },
    {
      "cell_type": "code",
      "source": [
        "# Exponentiation\n",
        "x = 2**3\n",
        "print(x)\n",
        "print(type(x))\n"
      ],
      "metadata": {
        "colab": {
          "base_uri": "https://localhost:8080/"
        },
        "id": "b8k2hmrCKTkt",
        "outputId": "6e52abd0-0046-47fa-eca8-05af825370ff"
      },
      "execution_count": 25,
      "outputs": [
        {
          "output_type": "stream",
          "name": "stdout",
          "text": [
            "8\n",
            "<class 'int'>\n"
          ]
        }
      ]
    },
    {
      "cell_type": "code",
      "source": [
        "# An example: Let's calculate how many minutes there are in 20 hours?\n",
        "one_hour = 60 # 60 minutes\n",
        "hour = 20\n",
        "minutes = one_hour *hour\n",
        "print(minutes)\n",
        "print(type(minutes))\n",
        "# An example: Let's calculate how many hours there are in 348 minutes?\n",
        "minutes = 348\n",
        "one_hour = 60\n",
        "hours = 348/60\n",
        "print(hours)\n",
        "print(type(hours))\n"
      ],
      "metadata": {
        "colab": {
          "base_uri": "https://localhost:8080/"
        },
        "id": "L3w98MuEKXAW",
        "outputId": "e86de27a-7b41-47fe-c992-f2e126f93f01"
      },
      "execution_count": 26,
      "outputs": [
        {
          "output_type": "stream",
          "name": "stdout",
          "text": [
            "1200\n",
            "<class 'int'>\n",
            "5.8\n",
            "<class 'float'>\n"
          ]
        }
      ]
    },
    {
      "cell_type": "code",
      "source": [
        "# Mathematica expression\n",
        "x = 45+3*89\n",
        "y = (45+3)*89\n",
        "print(x)\n",
        "print(y)\n",
        "print(x+y)\n",
        "print(x-y)\n",
        "print(x*y)\n",
        "print(x/y)\n",
        "#print(x**y)\n",
        "print(x//y)\n",
        "print(x%y)\n",
        "\n"
      ],
      "metadata": {
        "colab": {
          "base_uri": "https://localhost:8080/",
          "height": 339
        },
        "id": "kio_Nz5EKmew",
        "outputId": "badaf6e5-25b6-4e68-d6bb-f3565340b4c8"
      },
      "execution_count": 28,
      "outputs": [
        {
          "output_type": "stream",
          "name": "stdout",
          "text": [
            "312\n",
            "4272\n",
            "4584\n",
            "-3960\n",
            "1332864\n",
            "0.07303370786516854\n"
          ]
        },
        {
          "output_type": "error",
          "ename": "ValueError",
          "evalue": "ignored",
          "traceback": [
            "\u001b[0;31m---------------------------------------------------------------------------\u001b[0m",
            "\u001b[0;31mValueError\u001b[0m                                Traceback (most recent call last)",
            "\u001b[0;32m<ipython-input-28-8f3c2347800b>\u001b[0m in \u001b[0;36m<cell line: 10>\u001b[0;34m()\u001b[0m\n\u001b[1;32m      8\u001b[0m \u001b[0mprint\u001b[0m\u001b[0;34m(\u001b[0m\u001b[0mx\u001b[0m\u001b[0;34m*\u001b[0m\u001b[0my\u001b[0m\u001b[0;34m)\u001b[0m\u001b[0;34m\u001b[0m\u001b[0;34m\u001b[0m\u001b[0m\n\u001b[1;32m      9\u001b[0m \u001b[0mprint\u001b[0m\u001b[0;34m(\u001b[0m\u001b[0mx\u001b[0m\u001b[0;34m/\u001b[0m\u001b[0my\u001b[0m\u001b[0;34m)\u001b[0m\u001b[0;34m\u001b[0m\u001b[0;34m\u001b[0m\u001b[0m\n\u001b[0;32m---> 10\u001b[0;31m \u001b[0mprint\u001b[0m\u001b[0;34m(\u001b[0m\u001b[0mx\u001b[0m\u001b[0;34m**\u001b[0m\u001b[0my\u001b[0m\u001b[0;34m)\u001b[0m\u001b[0;34m\u001b[0m\u001b[0;34m\u001b[0m\u001b[0m\n\u001b[0m\u001b[1;32m     11\u001b[0m \u001b[0mprint\u001b[0m\u001b[0;34m(\u001b[0m\u001b[0mx\u001b[0m\u001b[0;34m//\u001b[0m\u001b[0my\u001b[0m\u001b[0;34m)\u001b[0m\u001b[0;34m\u001b[0m\u001b[0;34m\u001b[0m\u001b[0m\n\u001b[1;32m     12\u001b[0m \u001b[0mprint\u001b[0m\u001b[0;34m(\u001b[0m\u001b[0mx\u001b[0m\u001b[0;34m%\u001b[0m\u001b[0my\u001b[0m\u001b[0;34m)\u001b[0m\u001b[0;34m\u001b[0m\u001b[0;34m\u001b[0m\u001b[0m\n",
            "\u001b[0;31mValueError\u001b[0m: Exceeds the limit (4300) for integer string conversion; use sys.set_int_max_str_digits() to increase the limit"
          ]
        }
      ]
    },
    {
      "cell_type": "code",
      "source": [
        "from decimal import Decimal\n",
        "\n",
        "x = Decimal('10')\n",
        "y = Decimal('5000')\n",
        "\n",
        "print(x+y)\n",
        "print(x-y)\n",
        "print(x*y)\n",
        "print(x/y)\n",
        "print(x//y)\n",
        "print(x%y)\n",
        "print(x**int(y))\n"
      ],
      "metadata": {
        "colab": {
          "base_uri": "https://localhost:8080/"
        },
        "id": "pYms7Rm8K6b-",
        "outputId": "67f8f3ec-8e17-4d40-86ab-da0af9b7ec6b"
      },
      "execution_count": 29,
      "outputs": [
        {
          "output_type": "stream",
          "name": "stdout",
          "text": [
            "5010\n",
            "-4990\n",
            "50000\n",
            "0.002\n",
            "0\n",
            "10\n",
            "1.000000000000000000000000000E+5000\n"
          ]
        }
      ]
    },
    {
      "cell_type": "code",
      "source": [
        "# Store the value 89 into the variabe 'number'\n",
        "number = 90\n",
        "print(number)\n",
        "print(type(number))\n"
      ],
      "metadata": {
        "colab": {
          "base_uri": "https://localhost:8080/"
        },
        "id": "AM6XzL8QK_NW",
        "outputId": "857dacd4-1689-429f-a32c-f3bfcec40ade"
      },
      "execution_count": 30,
      "outputs": [
        {
          "output_type": "stream",
          "name": "stdout",
          "text": [
            "90\n",
            "<class 'int'>\n"
          ]
        }
      ]
    },
    {
      "cell_type": "code",
      "source": [
        "x = 25\n",
        "y = 87\n",
        "z = 5*x - 2*y\n",
        "print(z)\n",
        "t = z/7\n",
        "print(t)\n",
        "z = z/14\n",
        "print(z)\n"
      ],
      "metadata": {
        "colab": {
          "base_uri": "https://localhost:8080/"
        },
        "id": "n8bucb4GLCSp",
        "outputId": "bd2b4c96-9eb3-4bd7-eb72-1e6b4d4f353a"
      },
      "execution_count": 31,
      "outputs": [
        {
          "output_type": "stream",
          "name": "stdout",
          "text": [
            "-49\n",
            "-7.0\n",
            "-3.5\n"
          ]
        }
      ]
    },
    {
      "cell_type": "code",
      "source": [
        "x, y, z = 8, 4, 2 # the values of x, y, and z can be written in one line.\n",
        "print(x, y, z)\n",
        "print(x)\n",
        "print(y)\n",
        "print(z)\n",
        "print(x/y)\n",
        "print(x/z)\n",
        "print(y/z)\n",
        "print(x+y+z)\n",
        "print(x*y*z)\n",
        "print(x-y-z)\n",
        "print(x/y/z)\n",
        "print(x//y//z)\n",
        "print(x%y%z)"
      ],
      "metadata": {
        "colab": {
          "base_uri": "https://localhost:8080/"
        },
        "id": "PI9hsRY4LL8i",
        "outputId": "ede7ff7a-086c-4eb2-a884-109c0f254b11"
      },
      "execution_count": 32,
      "outputs": [
        {
          "output_type": "stream",
          "name": "stdout",
          "text": [
            "8 4 2\n",
            "8\n",
            "4\n",
            "2\n",
            "2.0\n",
            "4.0\n",
            "2.0\n",
            "14\n",
            "64\n",
            "2\n",
            "1.0\n",
            "1\n",
            "0\n"
          ]
        }
      ]
    },
    {
      "cell_type": "markdown",
      "source": [
        "2. Strings"
      ],
      "metadata": {
        "id": "g07n3Ch0LSMt"
      }
    },
    {
      "cell_type": "code",
      "source": [
        "# Assigning a string to a variable 'message'\n",
        "message = 'Hello World!'\n",
        "print(message)\n",
        "message\n"
      ],
      "metadata": {
        "colab": {
          "base_uri": "https://localhost:8080/",
          "height": 53
        },
        "id": "ZJoId8BGJtMv",
        "outputId": "441adb31-c357-4245-e138-b455518232f4"
      },
      "execution_count": 33,
      "outputs": [
        {
          "output_type": "stream",
          "name": "stdout",
          "text": [
            "Hello World!\n"
          ]
        },
        {
          "output_type": "execute_result",
          "data": {
            "text/plain": [
              "'Hello World!'"
            ],
            "application/vnd.google.colaboratory.intrinsic+json": {
              "type": "string"
            }
          },
          "metadata": {},
          "execution_count": 33
        }
      ]
    },
    {
      "cell_type": "code",
      "source": [
        "# printing the first element in a string\n",
        "message = 'Hello World!'\n",
        "print(message[0])\n"
      ],
      "metadata": {
        "colab": {
          "base_uri": "https://localhost:8080/"
        },
        "id": "2H9fmMeiLZW4",
        "outputId": "aedf8f43-4b21-490f-c054-7e3d1c7ea9db"
      },
      "execution_count": 34,
      "outputs": [
        {
          "output_type": "stream",
          "name": "stdout",
          "text": [
            "H\n"
          ]
        }
      ]
    },
    {
      "cell_type": "code",
      "source": [
        "print(message[8])"
      ],
      "metadata": {
        "colab": {
          "base_uri": "https://localhost:8080/"
        },
        "id": "wfF5i2MeLxoG",
        "outputId": "430e0eaa-59c4-46e5-caca-b683223a0489"
      },
      "execution_count": 35,
      "outputs": [
        {
          "output_type": "stream",
          "name": "stdout",
          "text": [
            "r\n"
          ]
        }
      ]
    },
    {
      "cell_type": "code",
      "source": [
        "len(message)\n"
      ],
      "metadata": {
        "colab": {
          "base_uri": "https://localhost:8080/"
        },
        "id": "-eiGr6KaL0gj",
        "outputId": "a4f1f942-ddd7-4053-f533-b0738f8e8e3f"
      },
      "execution_count": 36,
      "outputs": [
        {
          "output_type": "execute_result",
          "data": {
            "text/plain": [
              "12"
            ]
          },
          "metadata": {},
          "execution_count": 36
        }
      ]
    },
    {
      "cell_type": "code",
      "source": [
        "print(message[11])\n"
      ],
      "metadata": {
        "colab": {
          "base_uri": "https://localhost:8080/"
        },
        "id": "f9JHhHH5L8Kk",
        "outputId": "3b169210-969a-41ac-b851-98e26287721b"
      },
      "execution_count": 37,
      "outputs": [
        {
          "output_type": "stream",
          "name": "stdout",
          "text": [
            "!\n"
          ]
        }
      ]
    },
    {
      "cell_type": "code",
      "source": [
        "message[-1]"
      ],
      "metadata": {
        "colab": {
          "base_uri": "https://localhost:8080/",
          "height": 36
        },
        "id": "1Cy1L5yEMAfW",
        "outputId": "850e5a0d-7c58-4618-8f0c-51308b9bb8fb"
      },
      "execution_count": 38,
      "outputs": [
        {
          "output_type": "execute_result",
          "data": {
            "text/plain": [
              "'!'"
            ],
            "application/vnd.google.colaboratory.intrinsic+json": {
              "type": "string"
            }
          },
          "metadata": {},
          "execution_count": 38
        }
      ]
    },
    {
      "cell_type": "code",
      "source": [
        "message[-12]\n"
      ],
      "metadata": {
        "colab": {
          "base_uri": "https://localhost:8080/",
          "height": 36
        },
        "id": "q1lNBi2SMFyo",
        "outputId": "6c4daddc-0f95-4c71-c2cf-2ed011dbcf3a"
      },
      "execution_count": 39,
      "outputs": [
        {
          "output_type": "execute_result",
          "data": {
            "text/plain": [
              "'H'"
            ],
            "application/vnd.google.colaboratory.intrinsic+json": {
              "type": "string"
            }
          },
          "metadata": {},
          "execution_count": 39
        }
      ]
    },
    {
      "cell_type": "code",
      "source": [
        "print(len(message))\n",
        "len(message)\n"
      ],
      "metadata": {
        "colab": {
          "base_uri": "https://localhost:8080/"
        },
        "id": "PV3Cp0iEMIx5",
        "outputId": "b9edd18a-68ee-4b60-b9f4-c644124b9616"
      },
      "execution_count": 40,
      "outputs": [
        {
          "output_type": "stream",
          "name": "stdout",
          "text": [
            "12\n"
          ]
        },
        {
          "output_type": "execute_result",
          "data": {
            "text/plain": [
              "12"
            ]
          },
          "metadata": {},
          "execution_count": 40
        }
      ]
    },
    {
      "cell_type": "code",
      "source": [
        "len('Hello World!')\n"
      ],
      "metadata": {
        "colab": {
          "base_uri": "https://localhost:8080/"
        },
        "id": "jMDj94YxNE_t",
        "outputId": "f6f1652d-8e6c-4c36-9f07-bbb69b32a0a4"
      },
      "execution_count": 41,
      "outputs": [
        {
          "output_type": "execute_result",
          "data": {
            "text/plain": [
              "12"
            ]
          },
          "metadata": {},
          "execution_count": 41
        }
      ]
    },
    {
      "cell_type": "code",
      "source": [
        "#Slicing of a string\n",
        "# Slicing on the variable 'message' with only index 0 to index 5\n",
        "message[0:5]\n"
      ],
      "metadata": {
        "colab": {
          "base_uri": "https://localhost:8080/",
          "height": 36
        },
        "id": "V_7g02EQNKTi",
        "outputId": "aa38b86c-d7be-41b2-a148-115998689f56"
      },
      "execution_count": 42,
      "outputs": [
        {
          "output_type": "execute_result",
          "data": {
            "text/plain": [
              "'Hello'"
            ],
            "application/vnd.google.colaboratory.intrinsic+json": {
              "type": "string"
            }
          },
          "metadata": {},
          "execution_count": 42
        }
      ]
    },
    {
      "cell_type": "code",
      "source": [
        "message[6:12]\n"
      ],
      "metadata": {
        "colab": {
          "base_uri": "https://localhost:8080/",
          "height": 36
        },
        "id": "CdEI9xVNNjgt",
        "outputId": "bbcc04af-b5cf-4e28-b919-751da1b5571b"
      },
      "execution_count": 43,
      "outputs": [
        {
          "output_type": "execute_result",
          "data": {
            "text/plain": [
              "'World!'"
            ],
            "application/vnd.google.colaboratory.intrinsic+json": {
              "type": "string"
            }
          },
          "metadata": {},
          "execution_count": 43
        }
      ]
    },
    {
      "cell_type": "code",
      "source": [
        "# to select every second element in the variable 'message'\n",
        "message[::2]\n"
      ],
      "metadata": {
        "colab": {
          "base_uri": "https://localhost:8080/",
          "height": 36
        },
        "id": "8gDNzlO-NofA",
        "outputId": "2dbe2060-4b51-4e0b-f658-2591c204da07"
      },
      "execution_count": 44,
      "outputs": [
        {
          "output_type": "execute_result",
          "data": {
            "text/plain": [
              "'HloWrd'"
            ],
            "application/vnd.google.colaboratory.intrinsic+json": {
              "type": "string"
            }
          },
          "metadata": {},
          "execution_count": 44
        }
      ]
    },
    {
      "cell_type": "code",
      "source": [
        "# corporation of slicing and striding\n",
        "# get every second element in range from index 0 to index 6\n",
        "message[0:6:2]\n"
      ],
      "metadata": {
        "colab": {
          "base_uri": "https://localhost:8080/",
          "height": 36
        },
        "id": "EtoD06rYNuEy",
        "outputId": "d7dd68b7-fa10-4aeb-b485-d655ec3abf60"
      },
      "execution_count": 45,
      "outputs": [
        {
          "output_type": "execute_result",
          "data": {
            "text/plain": [
              "'Hlo'"
            ],
            "application/vnd.google.colaboratory.intrinsic+json": {
              "type": "string"
            }
          },
          "metadata": {},
          "execution_count": 45
        }
      ]
    },
    {
      "cell_type": "code",
      "source": [
        "#Concatenate of strings\n",
        "message = 'Hello World!'\n",
        "question = ' How many people are living on the earth?'\n",
        "statement = message+question\n",
        "statement"
      ],
      "metadata": {
        "colab": {
          "base_uri": "https://localhost:8080/",
          "height": 36
        },
        "id": "SgYSCYA4OVFq",
        "outputId": "5f938a8b-690f-4d73-e414-9f301777f661"
      },
      "execution_count": 46,
      "outputs": [
        {
          "output_type": "execute_result",
          "data": {
            "text/plain": [
              "'Hello World! How many people are living on the earth?'"
            ],
            "application/vnd.google.colaboratory.intrinsic+json": {
              "type": "string"
            }
          },
          "metadata": {},
          "execution_count": 46
        }
      ]
    },
    {
      "cell_type": "code",
      "source": [
        "message = 'Hello World!'\n",
        "question = ' How many people are living on the earth?'\n",
        "statement = message+question\n",
        "statement\n"
      ],
      "metadata": {
        "colab": {
          "base_uri": "https://localhost:8080/",
          "height": 36
        },
        "id": "TDIwoohEOfqj",
        "outputId": "72e09152-32ce-4c35-ec0c-f3e01a18ba55"
      },
      "execution_count": 47,
      "outputs": [
        {
          "output_type": "execute_result",
          "data": {
            "text/plain": [
              "'Hello World! How many people are living on the earth?'"
            ],
            "application/vnd.google.colaboratory.intrinsic+json": {
              "type": "string"
            }
          },
          "metadata": {},
          "execution_count": 47
        }
      ]
    },
    {
      "cell_type": "code",
      "source": [
        "# printing a string for 4 times\n",
        "4*\" Hello World!\"\n"
      ],
      "metadata": {
        "colab": {
          "base_uri": "https://localhost:8080/",
          "height": 36
        },
        "id": "IHsPZxuiOqAT",
        "outputId": "65970d85-b78f-45cf-b9bc-a7fd5155384c"
      },
      "execution_count": 48,
      "outputs": [
        {
          "output_type": "execute_result",
          "data": {
            "text/plain": [
              "' Hello World! Hello World! Hello World! Hello World!'"
            ],
            "application/vnd.google.colaboratory.intrinsic+json": {
              "type": "string"
            }
          },
          "metadata": {},
          "execution_count": 48
        }
      ]
    },
    {
      "cell_type": "code",
      "source": [
        "#Escape sequences  New line escape sequence\n",
        "print('Hello World! \\nHow many people are living on the earth?')\n"
      ],
      "metadata": {
        "colab": {
          "base_uri": "https://localhost:8080/"
        },
        "id": "F6yKPXmuOy7X",
        "outputId": "fe7db55e-a1af-47aa-fa6d-f863b069a9bd"
      },
      "execution_count": 49,
      "outputs": [
        {
          "output_type": "stream",
          "name": "stdout",
          "text": [
            "Hello World! \n",
            "How many people are living on the earth?\n"
          ]
        }
      ]
    },
    {
      "cell_type": "code",
      "source": [
        "# Tab escape sequence\n",
        "print('Hello World! \\tHow many people are living on the earth?')\n"
      ],
      "metadata": {
        "colab": {
          "base_uri": "https://localhost:8080/"
        },
        "id": "CX3mZxn3O43y",
        "outputId": "54274a97-68eb-4798-a053-aab559f5b928"
      },
      "execution_count": 50,
      "outputs": [
        {
          "output_type": "stream",
          "name": "stdout",
          "text": [
            "Hello World! \tHow many people are living on the earth?\n"
          ]
        }
      ]
    },
    {
      "cell_type": "code",
      "source": [
        "# back slash in a string\n",
        "print('Hello World! \\\\ How many people are living on the earth?')\n",
        "# r will say python that a string will be show as a raw string\n",
        "print(r'Hello World! \\ How many people are living on the earth?')"
      ],
      "metadata": {
        "colab": {
          "base_uri": "https://localhost:8080/"
        },
        "id": "6LVEWGBxQJlF",
        "outputId": "95cefcac-0626-41a6-910f-4395deacb70c"
      },
      "execution_count": 51,
      "outputs": [
        {
          "output_type": "stream",
          "name": "stdout",
          "text": [
            "Hello World! \\ How many people are living on the earth?\n",
            "Hello World! \\ How many people are living on the earth?\n"
          ]
        }
      ]
    },
    {
      "cell_type": "code",
      "source": [
        "message = 'hello python!'\n",
        "print('Before uppercase: ', message )\n",
        "# convert uppercase the elements in a string\n",
        "message_upper = message.upper()\n",
        "print('After uppercase: ', message_upper)\n",
        "# convert lowercase the elements in a string\n",
        "message_lower = message.lower()\n",
        "print('Again lowercase: ', message_lower)\n",
        "# convert first letter of string to uppercase\n",
        "message_title = message.title()\n",
        "print('The first element of the string is uppercase: ', message_title)"
      ],
      "metadata": {
        "colab": {
          "base_uri": "https://localhost:8080/"
        },
        "id": "U6ZYCC8QQXYR",
        "outputId": "b744c6c5-1988-424f-eeba-4a59693a2214"
      },
      "execution_count": 52,
      "outputs": [
        {
          "output_type": "stream",
          "name": "stdout",
          "text": [
            "Before uppercase:  hello python!\n",
            "After uppercase:  HELLO PYTHON!\n",
            "Again lowercase:  hello python!\n",
            "The first element of the string is uppercase:  Hello Python!\n"
          ]
        }
      ]
    },
    {
      "cell_type": "code",
      "source": [
        "# replace() method in a string\n",
        "message = 'Hello Python!'\n",
        "message_hi = message.replace('Hello', 'Hi')\n",
        "message_python = message.replace('Python', 'World')\n",
        "print(message_hi)\n",
        "print(message_python)\n"
      ],
      "metadata": {
        "colab": {
          "base_uri": "https://localhost:8080/"
        },
        "id": "PGcfG5rpQjYY",
        "outputId": "84b4c30c-5e49-43ba-b01c-c7f04fd3f53f"
      },
      "execution_count": 53,
      "outputs": [
        {
          "output_type": "stream",
          "name": "stdout",
          "text": [
            "Hi Python!\n",
            "Hello World!\n"
          ]
        }
      ]
    },
    {
      "cell_type": "code",
      "source": [
        "# find() method application in a string\n",
        "message = 'Hello World!'\n",
        "print(message.find('Wo'))\n",
        "# the output is the index number of the first element of the substring"
      ],
      "metadata": {
        "colab": {
          "base_uri": "https://localhost:8080/"
        },
        "id": "4xiuOJMuQow_",
        "outputId": "4fcc4716-cadb-4a67-9957-a60c55776a45"
      },
      "execution_count": 54,
      "outputs": [
        {
          "output_type": "stream",
          "name": "stdout",
          "text": [
            "6\n"
          ]
        }
      ]
    },
    {
      "cell_type": "code",
      "source": [
        "# find() method application to obtain a substring in a string\n",
        "message.find('World!')\n"
      ],
      "metadata": {
        "colab": {
          "base_uri": "https://localhost:8080/"
        },
        "id": "IFSrhHU-Q7uP",
        "outputId": "417e48ed-d146-4048-e363-17489b2c004b"
      },
      "execution_count": 55,
      "outputs": [
        {
          "output_type": "execute_result",
          "data": {
            "text/plain": [
              "6"
            ]
          },
          "metadata": {},
          "execution_count": 55
        }
      ]
    },
    {
      "cell_type": "code",
      "source": [
        "# if cannot find the substring in a string, the output is -1.\n",
        "message.find('cndsjnd')\n"
      ],
      "metadata": {
        "colab": {
          "base_uri": "https://localhost:8080/"
        },
        "id": "bbf7lqrzRO87",
        "outputId": "8c8bd31c-1770-4c50-b042-81b3e295fcf4"
      },
      "execution_count": 56,
      "outputs": [
        {
          "output_type": "execute_result",
          "data": {
            "text/plain": [
              "-1"
            ]
          },
          "metadata": {},
          "execution_count": 56
        }
      ]
    },
    {
      "cell_type": "code",
      "source": [
        "text = 'Jean-Paul Sartre somewhere observed that we each of us make our own hell out of the people around us. Had'\n",
        "# find the first index of the substring 'Nancy'\n",
        "text.find('Nancy')"
      ],
      "metadata": {
        "colab": {
          "base_uri": "https://localhost:8080/"
        },
        "id": "5l7ml27hR0sv",
        "outputId": "b00a8a45-df29-4dcd-f125-753cc9b3bb1f"
      },
      "execution_count": 58,
      "outputs": [
        {
          "output_type": "execute_result",
          "data": {
            "text/plain": [
              "-1"
            ]
          },
          "metadata": {},
          "execution_count": 58
        }
      ]
    },
    {
      "cell_type": "code",
      "source": [
        "# replace the substring 'Nancy' with 'Nancy Lier Cosgrove Mullis'\n",
        "text.replace('Nancy', 'Nancy Lier Cosgrove Mullis')\n"
      ],
      "metadata": {
        "colab": {
          "base_uri": "https://localhost:8080/",
          "height": 36
        },
        "id": "LLUp95UtR_lX",
        "outputId": "1714f4d3-0e8a-49db-d2fb-236844dcb3e3"
      },
      "execution_count": 59,
      "outputs": [
        {
          "output_type": "execute_result",
          "data": {
            "text/plain": [
              "'Jean-Paul Sartre somewhere observed that we each of us make our own hell out of the people around us. Had'"
            ],
            "application/vnd.google.colaboratory.intrinsic+json": {
              "type": "string"
            }
          },
          "metadata": {},
          "execution_count": 59
        }
      ]
    },
    {
      "cell_type": "code",
      "source": [
        "# convet the text to lower case\n",
        "text.lower()\n"
      ],
      "metadata": {
        "colab": {
          "base_uri": "https://localhost:8080/",
          "height": 36
        },
        "id": "0O6So1W5SMEk",
        "outputId": "dca719b2-2b1c-41c6-ff3f-ef0d4adfe28f"
      },
      "execution_count": 60,
      "outputs": [
        {
          "output_type": "execute_result",
          "data": {
            "text/plain": [
              "'jean-paul sartre somewhere observed that we each of us make our own hell out of the people around us. had'"
            ],
            "application/vnd.google.colaboratory.intrinsic+json": {
              "type": "string"
            }
          },
          "metadata": {},
          "execution_count": 60
        }
      ]
    },
    {
      "cell_type": "code",
      "source": [
        "# convert the first letter of the text to capital letter\n",
        "text.capitalize()\n"
      ],
      "metadata": {
        "colab": {
          "base_uri": "https://localhost:8080/",
          "height": 36
        },
        "id": "7XODet1aTNeG",
        "outputId": "ea49c8e6-aff5-4f34-87ee-eafcb7d369f6"
      },
      "execution_count": 61,
      "outputs": [
        {
          "output_type": "execute_result",
          "data": {
            "text/plain": [
              "'Jean-paul sartre somewhere observed that we each of us make our own hell out of the people around us. had'"
            ],
            "application/vnd.google.colaboratory.intrinsic+json": {
              "type": "string"
            }
          },
          "metadata": {},
          "execution_count": 61
        }
      ]
    },
    {
      "cell_type": "code",
      "source": [
        "# casefold() method returns a string where all the characters are in lower case\n",
        "text.casefold()\n"
      ],
      "metadata": {
        "colab": {
          "base_uri": "https://localhost:8080/",
          "height": 36
        },
        "id": "XAyj84TTTUsy",
        "outputId": "bbbfffe9-a099-4627-8229-af371ac9e07e"
      },
      "execution_count": 62,
      "outputs": [
        {
          "output_type": "execute_result",
          "data": {
            "text/plain": [
              "'jean-paul sartre somewhere observed that we each of us make our own hell out of the people around us. had'"
            ],
            "application/vnd.google.colaboratory.intrinsic+json": {
              "type": "string"
            }
          },
          "metadata": {},
          "execution_count": 62
        }
      ]
    },
    {
      "cell_type": "code",
      "source": [
        "# center() method will center align the string, using a specified character (space is the default) as the fill character.\n",
        "message = 'Hallo Leute!'\n",
        "message.center(50, '-')\n"
      ],
      "metadata": {
        "colab": {
          "base_uri": "https://localhost:8080/",
          "height": 36
        },
        "id": "OxZSD4UGTpOp",
        "outputId": "855cae46-2a89-48a5-e3d2-148a5be4f101"
      },
      "execution_count": 63,
      "outputs": [
        {
          "output_type": "execute_result",
          "data": {
            "text/plain": [
              "'-------------------Hallo Leute!-------------------'"
            ],
            "application/vnd.google.colaboratory.intrinsic+json": {
              "type": "string"
            }
          },
          "metadata": {},
          "execution_count": 63
        }
      ]
    },
    {
      "cell_type": "code",
      "source": [
        "# count() method returns the number of elements with the specified value\n",
        "text.count('and')\n"
      ],
      "metadata": {
        "colab": {
          "base_uri": "https://localhost:8080/"
        },
        "id": "fsRQ49ltTuDL",
        "outputId": "b5b2133e-dc55-4325-9258-17866583f818"
      },
      "execution_count": 64,
      "outputs": [
        {
          "output_type": "execute_result",
          "data": {
            "text/plain": [
              "0"
            ]
          },
          "metadata": {},
          "execution_count": 64
        }
      ]
    },
    {
      "cell_type": "code",
      "source": [
        "# format() method\n",
        "\"\"\"\n",
        "The format() method formats the specified value(s) and insert them inside the string's placeholder.\n",
        "The placeholder is defined using curly brackets: {}.\n",
        "\"\"\"\n",
        "txt = \"Hello {word}\"\n",
        "print(txt.format(word = 'World!'))\n",
        "message1 = 'Hi, My name is {} and I am {} years old.'\n",
        "print(message1.format('Bob', 36))\n",
        "message2 = 'Hi, My name is {name} and I am {number} years old.'\n",
        "print(message2.format(name ='Bob', number = 36))\n",
        "message3 = 'Hi, My name is {0} and I am {1} years old.'\n",
        "print(message3.format('Bob', 36))\n"
      ],
      "metadata": {
        "colab": {
          "base_uri": "https://localhost:8080/"
        },
        "id": "-28yplmPTzZU",
        "outputId": "a3cb5edc-48b2-40ef-f681-9fce1e14e15c"
      },
      "execution_count": 65,
      "outputs": [
        {
          "output_type": "stream",
          "name": "stdout",
          "text": [
            "Hello World!\n",
            "Hi, My name is Bob and I am 36 years old.\n",
            "Hi, My name is Bob and I am 36 years old.\n",
            "Hi, My name is Bob and I am 36 years old.\n"
          ]
        }
      ]
    },
    {
      "cell_type": "code",
      "source": [
        "#3. Lists\n",
        "\n",
        "# creatinng a list\n",
        "nlis = ['python', 25, 2022]\n",
        "nlis\n",
        "\n"
      ],
      "metadata": {
        "colab": {
          "base_uri": "https://localhost:8080/"
        },
        "id": "PcxJE75eT8iE",
        "outputId": "271e3428-233d-41e0-d11e-37d2c1204c83"
      },
      "execution_count": 66,
      "outputs": [
        {
          "output_type": "execute_result",
          "data": {
            "text/plain": [
              "['python', 25, 2022]"
            ]
          },
          "metadata": {},
          "execution_count": 66
        }
      ]
    },
    {
      "cell_type": "code",
      "source": [
        "print('Positive and negative indexing of the first element: \\n - Positive index:', nlis[0], '\\n - Negative index:', nlis[-3])\n",
        "print()\n",
        "print('Positive and negative indexing of the second element: \\n - Positive index:', nlis[1], '\\n - Negative index:', nlis[-2])\n",
        "print()\n",
        "print('Positive and negative indexing of the third element: \\n - Positive index:', nlis[2], '\\n - Negative index:', nlis[-1])\n"
      ],
      "metadata": {
        "colab": {
          "base_uri": "https://localhost:8080/"
        },
        "id": "q-UxTio7UEGG",
        "outputId": "899677d7-3e08-4206-b3e6-07ae31c335aa"
      },
      "execution_count": 67,
      "outputs": [
        {
          "output_type": "stream",
          "name": "stdout",
          "text": [
            "Positive and negative indexing of the first element: \n",
            " - Positive index: python \n",
            " - Negative index: python\n",
            "\n",
            "Positive and negative indexing of the second element: \n",
            " - Positive index: 25 \n",
            " - Negative index: 25\n",
            "\n",
            "Positive and negative indexing of the third element: \n",
            " - Positive index: 2022 \n",
            " - Negative index: 2022\n"
          ]
        }
      ]
    },
    {
      "cell_type": "code",
      "source": [
        "nlis = ['python', 3.14, 2022, [1, 1, 2, 3, 5, 8, 13, 21, 34], ('hello', 'python', 3,14, 2022)]\n",
        "nlis\n"
      ],
      "metadata": {
        "colab": {
          "base_uri": "https://localhost:8080/"
        },
        "id": "RI6u-F0lUPvg",
        "outputId": "9e850190-a105-4946-873e-8e55613a74e9"
      },
      "execution_count": 68,
      "outputs": [
        {
          "output_type": "execute_result",
          "data": {
            "text/plain": [
              "['python',\n",
              " 3.14,\n",
              " 2022,\n",
              " [1, 1, 2, 3, 5, 8, 13, 21, 34],\n",
              " ('hello', 'python', 3, 14, 2022)]"
            ]
          },
          "metadata": {},
          "execution_count": 68
        }
      ]
    },
    {
      "cell_type": "code",
      "source": [
        "# length of the list\n",
        "len(nlis)"
      ],
      "metadata": {
        "colab": {
          "base_uri": "https://localhost:8080/"
        },
        "id": "gmlP-GB_UgJz",
        "outputId": "c42ec612-b2c6-40fc-cb93-2c5df3fc3578"
      },
      "execution_count": 69,
      "outputs": [
        {
          "output_type": "execute_result",
          "data": {
            "text/plain": [
              "5"
            ]
          },
          "metadata": {},
          "execution_count": 69
        }
      ]
    },
    {
      "cell_type": "code",
      "source": [
        "# slicing of a list\n",
        "print(nlis[0:2])\n",
        "print(nlis[2:4])\n",
        "print(nlis[4:6])\n"
      ],
      "metadata": {
        "colab": {
          "base_uri": "https://localhost:8080/"
        },
        "id": "HBbXgT5EUkaR",
        "outputId": "2fca765a-cef1-46d6-ece1-d5e09e99aecb"
      },
      "execution_count": 70,
      "outputs": [
        {
          "output_type": "stream",
          "name": "stdout",
          "text": [
            "['python', 3.14]\n",
            "[2022, [1, 1, 2, 3, 5, 8, 13, 21, 34]]\n",
            "[('hello', 'python', 3, 14, 2022)]\n"
          ]
        }
      ]
    },
    {
      "cell_type": "markdown",
      "source": [
        "Extending the list\n",
        "we use the extend() function to add a new element to the list.\n",
        "With this function, we add more than one element to the list.\n"
      ],
      "metadata": {
        "id": "2uZkUYUsUtwP"
      }
    },
    {
      "cell_type": "code",
      "source": [
        "# take a list\n",
        "nlis = ['python', 3.14, 2022, [1, 1, 2, 3, 5, 8, 13, 21, 34], ('hello', 'python', 3,14, 2022)]\n",
        "nlis.extend(['hello world!', 1.618])\n",
        "nlis\n"
      ],
      "metadata": {
        "colab": {
          "base_uri": "https://localhost:8080/"
        },
        "id": "54tSEKRGUodw",
        "outputId": "1fce5552-d0ca-4382-c101-fa34bf50509a"
      },
      "execution_count": 71,
      "outputs": [
        {
          "output_type": "execute_result",
          "data": {
            "text/plain": [
              "['python',\n",
              " 3.14,\n",
              " 2022,\n",
              " [1, 1, 2, 3, 5, 8, 13, 21, 34],\n",
              " ('hello', 'python', 3, 14, 2022),\n",
              " 'hello world!',\n",
              " 1.618]"
            ]
          },
          "metadata": {},
          "execution_count": 71
        }
      ]
    },
    {
      "cell_type": "markdown",
      "source": [],
      "metadata": {
        "id": "9vvmm-PUUzDw"
      }
    },
    {
      "cell_type": "markdown",
      "source": [
        "append() method\n",
        "As different from the extend() method, with the append() method, we add only one element to the list\n",
        "You can see the difference by comparing the above and below codes.\n"
      ],
      "metadata": {
        "id": "hqzZeU3mUwq3"
      }
    },
    {
      "cell_type": "code",
      "source": [
        "nlis = ['python', 3.14, 2022, [1, 1, 2, 3, 5, 8, 13, 21, 34], ('hello', 'python', 3,14, 2022)]\n",
        "nlis.append(['hello world!', 1.618])\n",
        "nlis\n"
      ],
      "metadata": {
        "colab": {
          "base_uri": "https://localhost:8080/"
        },
        "id": "1CBZGhcoU0Fs",
        "outputId": "caf264f5-2d8b-4923-e983-ad92ddd003d3"
      },
      "execution_count": 72,
      "outputs": [
        {
          "output_type": "execute_result",
          "data": {
            "text/plain": [
              "['python',\n",
              " 3.14,\n",
              " 2022,\n",
              " [1, 1, 2, 3, 5, 8, 13, 21, 34],\n",
              " ('hello', 'python', 3, 14, 2022),\n",
              " ['hello world!', 1.618]]"
            ]
          },
          "metadata": {},
          "execution_count": 72
        }
      ]
    },
    {
      "cell_type": "code",
      "source": [
        "lis = [1,2,3,4,5,6,7]\n",
        "print(len(lis))\n",
        "lis.append(4)\n",
        "print(lis)\n",
        "print(lis.count(4)) # How many 4 are on the list 'lis'?\n",
        "print(lis.index(2)) # What is the index of the number 2 in the list 'lis'?\n",
        "lis.insert(8, 9) # Add number 9 to the index 8.\n",
        "print(lis)\n",
        "print(max(lis)) # What is the maximum number in the list?\n",
        "print(min(lis)) # What is the minimum number in the list?\n",
        "print(sum(lis)) # What is the sum of the numbers in the list? \n"
      ],
      "metadata": {
        "colab": {
          "base_uri": "https://localhost:8080/"
        },
        "id": "k6q0UfN2U-JC",
        "outputId": "3f961671-29ce-4d75-f515-cbf4a8f9ec57"
      },
      "execution_count": 73,
      "outputs": [
        {
          "output_type": "stream",
          "name": "stdout",
          "text": [
            "7\n",
            "[1, 2, 3, 4, 5, 6, 7, 4]\n",
            "2\n",
            "1\n",
            "[1, 2, 3, 4, 5, 6, 7, 4, 9]\n",
            "9\n",
            "1\n",
            "41\n"
          ]
        }
      ]
    },
    {
      "cell_type": "code",
      "source": [
        "nlis = ['python', 3.14, 2022, [1, 1, 2, 3, 5, 8, 13, 21, 34], ('hello', 'python', 3,14, 2022)]\n",
        "print('Before changing:', nlis)\n",
        "nlis[0] = 'hello python!'\n",
        "print('After changing:', nlis)\n",
        "nlis[1] = 1.618\n",
        "print('After changing:', nlis)\n",
        "nlis[2] = [3.14, 2022]\n",
        "print('After changing:', nlis)\n"
      ],
      "metadata": {
        "colab": {
          "base_uri": "https://localhost:8080/"
        },
        "id": "i4xtJwdXVIjb",
        "outputId": "d8fbfef9-37e4-43f5-d7c3-c593f4759d58"
      },
      "execution_count": 74,
      "outputs": [
        {
          "output_type": "stream",
          "name": "stdout",
          "text": [
            "Before changing: ['python', 3.14, 2022, [1, 1, 2, 3, 5, 8, 13, 21, 34], ('hello', 'python', 3, 14, 2022)]\n",
            "After changing: ['hello python!', 3.14, 2022, [1, 1, 2, 3, 5, 8, 13, 21, 34], ('hello', 'python', 3, 14, 2022)]\n",
            "After changing: ['hello python!', 1.618, 2022, [1, 1, 2, 3, 5, 8, 13, 21, 34], ('hello', 'python', 3, 14, 2022)]\n",
            "After changing: ['hello python!', 1.618, [3.14, 2022], [1, 1, 2, 3, 5, 8, 13, 21, 34], ('hello', 'python', 3, 14, 2022)]\n"
          ]
        }
      ]
    },
    {
      "cell_type": "code",
      "source": [],
      "metadata": {
        "id": "kT3N17GpVPhJ"
      },
      "execution_count": null,
      "outputs": []
    }
  ]
}